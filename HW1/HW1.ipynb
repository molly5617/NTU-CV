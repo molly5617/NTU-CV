{
 "cells": [
  {
   "cell_type": "code",
   "execution_count": 160,
   "metadata": {},
   "outputs": [
    {
     "ename": "FileNotFoundError",
     "evalue": "[Errno 2] No such file or directory: '/Users/wangyiyao/NTU-CV/lena.bmp'",
     "output_type": "error",
     "traceback": [
      "\u001b[0;31m---------------------------------------------------------------------------\u001b[0m",
      "\u001b[0;31mFileNotFoundError\u001b[0m                         Traceback (most recent call last)",
      "Cell \u001b[0;32mIn[1], line 4\u001b[0m\n\u001b[1;32m      2\u001b[0m \u001b[38;5;28;01mimport\u001b[39;00m \u001b[38;5;21;01mnumpy\u001b[39;00m \u001b[38;5;28;01mas\u001b[39;00m \u001b[38;5;21;01mnp\u001b[39;00m\n\u001b[1;32m      3\u001b[0m \u001b[38;5;28;01mimport\u001b[39;00m \u001b[38;5;21;01mcv2\u001b[39;00m\n\u001b[0;32m----> 4\u001b[0m lena\u001b[38;5;241m=\u001b[39mimg\u001b[38;5;241m.\u001b[39mopen(\u001b[38;5;124m'\u001b[39m\u001b[38;5;124m/Users/wangyiyao/NTU-CV/lena.bmp\u001b[39m\u001b[38;5;124m'\u001b[39m)\n\u001b[1;32m      5\u001b[0m lena_arr \u001b[38;5;241m=\u001b[39m np\u001b[38;5;241m.\u001b[39masarray(lena)\n",
      "File \u001b[0;32m/opt/anaconda3/lib/python3.12/site-packages/PIL/Image.py:3277\u001b[0m, in \u001b[0;36mopen\u001b[0;34m(fp, mode, formats)\u001b[0m\n\u001b[1;32m   3274\u001b[0m     filename \u001b[38;5;241m=\u001b[39m os\u001b[38;5;241m.\u001b[39mpath\u001b[38;5;241m.\u001b[39mrealpath(os\u001b[38;5;241m.\u001b[39mfspath(fp))\n\u001b[1;32m   3276\u001b[0m \u001b[38;5;28;01mif\u001b[39;00m filename:\n\u001b[0;32m-> 3277\u001b[0m     fp \u001b[38;5;241m=\u001b[39m builtins\u001b[38;5;241m.\u001b[39mopen(filename, \u001b[38;5;124m\"\u001b[39m\u001b[38;5;124mrb\u001b[39m\u001b[38;5;124m\"\u001b[39m)\n\u001b[1;32m   3278\u001b[0m     exclusive_fp \u001b[38;5;241m=\u001b[39m \u001b[38;5;28;01mTrue\u001b[39;00m\n\u001b[1;32m   3280\u001b[0m \u001b[38;5;28;01mtry\u001b[39;00m:\n",
      "\u001b[0;31mFileNotFoundError\u001b[0m: [Errno 2] No such file or directory: '/Users/wangyiyao/NTU-CV/lena.bmp'"
     ]
    }
   ],
   "source": [
    "from PIL import Image as img\n",
    "import numpy as np\n",
    "import cv2\n",
    "lena=img.open('/Users/wangyiyao/NTU-CV/lena.bmp')\n",
    "lena_arr = np.asarray(lena)"
   ]
  },
  {
   "cell_type": "code",
   "execution_count": 161,
   "metadata": {},
   "outputs": [],
   "source": [
    "HW1_a=lena_arr[::-1]\n",
    "HW1_b=np.array([i[::-1] for i in lena_arr])\n",
    "HW1_c=lena_arr.T\n",
    "rotate = cv2.getRotationMatrix2D((256,256), 45, 1)\n",
    "HW1_d=cv2.warpAffine(lena_arr,rotate,(512,512))\n",
    "tmp=np.array(lena_arr,dtype='int')\n",
    "HW1_e=[[(tmp[i*2][j*2]+tmp[i*2+1][j*2]+tmp[i*2][j*2+1]+tmp[i*2+1][j*2+1])//4 for j in range(256)] for i in range(256)]\n",
    "HW1_e=np.array(HW1_e,dtype='uint8')\n",
    "HW1_f=(lena_arr//128)*255"
   ]
  },
  {
   "cell_type": "code",
   "execution_count": 162,
   "metadata": {},
   "outputs": [],
   "source": [
    "img.fromarray(HW1_a).save(\"HW1_a.bmp\")\n",
    "img.fromarray(HW1_b).save(\"HW1_b.bmp\")\n",
    "img.fromarray(HW1_c).save(\"HW1_c.bmp\")\n",
    "img.fromarray(HW1_d).save(\"HW1_d.bmp\")\n",
    "img.fromarray(HW1_e).save(\"HW1_e.bmp\")\n",
    "img.fromarray(HW1_f).save(\"HW1_f.bmp\")"
   ]
  },
  {
   "cell_type": "code",
   "execution_count": null,
   "metadata": {},
   "outputs": [],
   "source": []
  }
 ],
 "metadata": {
  "kernelspec": {
   "display_name": "Python 3",
   "language": "python",
   "name": "python3"
  },
  "language_info": {
   "codemirror_mode": {
    "name": "ipython",
    "version": 3
   },
   "file_extension": ".py",
   "mimetype": "text/x-python",
   "name": "python",
   "nbconvert_exporter": "python",
   "pygments_lexer": "ipython3",
   "version": "3.7.6"
  }
 },
 "nbformat": 4,
 "nbformat_minor": 4
}
